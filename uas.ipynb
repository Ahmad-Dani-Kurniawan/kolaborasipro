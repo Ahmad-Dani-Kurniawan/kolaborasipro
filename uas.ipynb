{
 "cells": [
  {
   "attachments": {},
   "cell_type": "markdown",
   "metadata": {},
   "source": [
    "# Peramalan\n",
    "## NIM Ketua Kelompok    : 200411100205\n",
    "## Nama Ketua Kelompok   : Ahmad Dani Kurniawan\n",
    "## NIM Anggota Kelompok  : 200411100158\n",
    "## Nama Anggota Kelompok : Indra Fadila Fani Ramadan\n",
    "## Github                : https://github.com/Ahmad-Dani-Kurniawan/kolaborasipro\n",
    "## Kelas                 : PSD C"
   ]
  },
  {
   "cell_type": "code",
   "execution_count": 1,
   "metadata": {},
   "outputs": [
    {
     "name": "stdout",
     "output_type": "stream",
     "text": [
      "Requirement already satisfied: pandas in /home/ubuntu/.local/lib/python3.8/site-packages (2.0.2)\n",
      "Requirement already satisfied: tzdata>=2022.1 in /home/ubuntu/.local/lib/python3.8/site-packages (from pandas) (2023.3)\n",
      "Requirement already satisfied: pytz>=2020.1 in /home/ubuntu/.local/lib/python3.8/site-packages (from pandas) (2023.3)\n",
      "Requirement already satisfied: numpy>=1.20.3; python_version < \"3.10\" in /home/ubuntu/.local/lib/python3.8/site-packages (from pandas) (1.24.3)\n",
      "Requirement already satisfied: python-dateutil>=2.8.2 in /home/ubuntu/.local/lib/python3.8/site-packages (from pandas) (2.8.2)\n",
      "Requirement already satisfied: six>=1.5 in /usr/lib/python3/dist-packages (from python-dateutil>=2.8.2->pandas) (1.14.0)\n",
      "Note: you may need to restart the kernel to use updated packages.\n",
      "Requirement already satisfied: scikit-learn in /home/ubuntu/.local/lib/python3.8/site-packages (1.2.2)\n",
      "Requirement already satisfied: scipy>=1.3.2 in /home/ubuntu/.local/lib/python3.8/site-packages (from scikit-learn) (1.10.1)\n",
      "Requirement already satisfied: threadpoolctl>=2.0.0 in /home/ubuntu/.local/lib/python3.8/site-packages (from scikit-learn) (3.1.0)\n",
      "Requirement already satisfied: joblib>=1.1.1 in /home/ubuntu/.local/lib/python3.8/site-packages (from scikit-learn) (1.2.0)\n",
      "Requirement already satisfied: numpy>=1.17.3 in /home/ubuntu/.local/lib/python3.8/site-packages (from scikit-learn) (1.24.3)\n",
      "Note: you may need to restart the kernel to use updated packages.\n",
      "Requirement already satisfied: openpyxl in /home/ubuntu/.local/lib/python3.8/site-packages (3.1.2)\n",
      "Requirement already satisfied: et-xmlfile in /home/ubuntu/.local/lib/python3.8/site-packages (from openpyxl) (1.1.0)\n",
      "Note: you may need to restart the kernel to use updated packages.\n",
      "Requirement already satisfied: numpy in /home/ubuntu/.local/lib/python3.8/site-packages (1.24.3)\n",
      "Note: you may need to restart the kernel to use updated packages.\n",
      "\u001b[31mERROR: Could not find a version that satisfies the requirement pickle (from versions: none)\u001b[0m\n",
      "\u001b[31mERROR: No matching distribution found for pickle\u001b[0m\n",
      "Note: you may need to restart the kernel to use updated packages.\n"
     ]
    }
   ],
   "source": [
    "%pip install pandas\n",
    "%pip install scikit-learn\n",
    "%pip install openpyxl\n",
    "%pip install numpy\n",
    "%pip install pickle"
   ]
  },
  {
   "cell_type": "code",
   "execution_count": 25,
   "metadata": {},
   "outputs": [
    {
     "data": {
      "text/html": [
       "<div>\n",
       "<style scoped>\n",
       "    .dataframe tbody tr th:only-of-type {\n",
       "        vertical-align: middle;\n",
       "    }\n",
       "\n",
       "    .dataframe tbody tr th {\n",
       "        vertical-align: top;\n",
       "    }\n",
       "\n",
       "    .dataframe thead th {\n",
       "        text-align: right;\n",
       "    }\n",
       "</style>\n",
       "<table border=\"1\" class=\"dataframe\">\n",
       "  <thead>\n",
       "    <tr style=\"text-align: right;\">\n",
       "      <th></th>\n",
       "      <th>Date</th>\n",
       "      <th>Open</th>\n",
       "      <th>High</th>\n",
       "      <th>Low</th>\n",
       "      <th>Close</th>\n",
       "      <th>Adj Close</th>\n",
       "      <th>Volume</th>\n",
       "    </tr>\n",
       "  </thead>\n",
       "  <tbody>\n",
       "    <tr>\n",
       "      <th>0</th>\n",
       "      <td>2022-06-15</td>\n",
       "      <td>30900.0</td>\n",
       "      <td>31125.0</td>\n",
       "      <td>30525.0</td>\n",
       "      <td>30575.0</td>\n",
       "      <td>30572.828125</td>\n",
       "      <td>802000.0</td>\n",
       "    </tr>\n",
       "    <tr>\n",
       "      <th>1</th>\n",
       "      <td>2022-06-16</td>\n",
       "      <td>30675.0</td>\n",
       "      <td>30975.0</td>\n",
       "      <td>30575.0</td>\n",
       "      <td>30775.0</td>\n",
       "      <td>30772.812500</td>\n",
       "      <td>761700.0</td>\n",
       "    </tr>\n",
       "    <tr>\n",
       "      <th>2</th>\n",
       "      <td>2022-06-17</td>\n",
       "      <td>30500.0</td>\n",
       "      <td>30700.0</td>\n",
       "      <td>30450.0</td>\n",
       "      <td>30450.0</td>\n",
       "      <td>30447.835938</td>\n",
       "      <td>1481400.0</td>\n",
       "    </tr>\n",
       "    <tr>\n",
       "      <th>3</th>\n",
       "      <td>2022-06-20</td>\n",
       "      <td>30500.0</td>\n",
       "      <td>30900.0</td>\n",
       "      <td>30400.0</td>\n",
       "      <td>30700.0</td>\n",
       "      <td>30697.818359</td>\n",
       "      <td>570700.0</td>\n",
       "    </tr>\n",
       "    <tr>\n",
       "      <th>4</th>\n",
       "      <td>2022-06-21</td>\n",
       "      <td>30800.0</td>\n",
       "      <td>31400.0</td>\n",
       "      <td>30800.0</td>\n",
       "      <td>31050.0</td>\n",
       "      <td>31047.792969</td>\n",
       "      <td>901700.0</td>\n",
       "    </tr>\n",
       "    <tr>\n",
       "      <th>...</th>\n",
       "      <td>...</td>\n",
       "      <td>...</td>\n",
       "      <td>...</td>\n",
       "      <td>...</td>\n",
       "      <td>...</td>\n",
       "      <td>...</td>\n",
       "      <td>...</td>\n",
       "    </tr>\n",
       "    <tr>\n",
       "      <th>243</th>\n",
       "      <td>2023-06-09</td>\n",
       "      <td>28000.0</td>\n",
       "      <td>28050.0</td>\n",
       "      <td>27300.0</td>\n",
       "      <td>27400.0</td>\n",
       "      <td>27400.000000</td>\n",
       "      <td>2684200.0</td>\n",
       "    </tr>\n",
       "    <tr>\n",
       "      <th>244</th>\n",
       "      <td>2023-06-12</td>\n",
       "      <td>27425.0</td>\n",
       "      <td>28250.0</td>\n",
       "      <td>27400.0</td>\n",
       "      <td>27900.0</td>\n",
       "      <td>27900.000000</td>\n",
       "      <td>2627400.0</td>\n",
       "    </tr>\n",
       "    <tr>\n",
       "      <th>245</th>\n",
       "      <td>2023-06-13</td>\n",
       "      <td>27900.0</td>\n",
       "      <td>28125.0</td>\n",
       "      <td>27750.0</td>\n",
       "      <td>28000.0</td>\n",
       "      <td>28000.000000</td>\n",
       "      <td>1284700.0</td>\n",
       "    </tr>\n",
       "    <tr>\n",
       "      <th>246</th>\n",
       "      <td>2023-06-14</td>\n",
       "      <td>NaN</td>\n",
       "      <td>NaN</td>\n",
       "      <td>NaN</td>\n",
       "      <td>NaN</td>\n",
       "      <td>NaN</td>\n",
       "      <td>NaN</td>\n",
       "    </tr>\n",
       "    <tr>\n",
       "      <th>247</th>\n",
       "      <td>2023-06-15</td>\n",
       "      <td>27500.0</td>\n",
       "      <td>27800.0</td>\n",
       "      <td>27500.0</td>\n",
       "      <td>27675.0</td>\n",
       "      <td>27675.000000</td>\n",
       "      <td>76000.0</td>\n",
       "    </tr>\n",
       "  </tbody>\n",
       "</table>\n",
       "<p>248 rows × 7 columns</p>\n",
       "</div>"
      ],
      "text/plain": [
       "           Date     Open     High      Low    Close     Adj Close     Volume\n",
       "0    2022-06-15  30900.0  31125.0  30525.0  30575.0  30572.828125   802000.0\n",
       "1    2022-06-16  30675.0  30975.0  30575.0  30775.0  30772.812500   761700.0\n",
       "2    2022-06-17  30500.0  30700.0  30450.0  30450.0  30447.835938  1481400.0\n",
       "3    2022-06-20  30500.0  30900.0  30400.0  30700.0  30697.818359   570700.0\n",
       "4    2022-06-21  30800.0  31400.0  30800.0  31050.0  31047.792969   901700.0\n",
       "..          ...      ...      ...      ...      ...           ...        ...\n",
       "243  2023-06-09  28000.0  28050.0  27300.0  27400.0  27400.000000  2684200.0\n",
       "244  2023-06-12  27425.0  28250.0  27400.0  27900.0  27900.000000  2627400.0\n",
       "245  2023-06-13  27900.0  28125.0  27750.0  28000.0  28000.000000  1284700.0\n",
       "246  2023-06-14      NaN      NaN      NaN      NaN           NaN        NaN\n",
       "247  2023-06-15  27500.0  27800.0  27500.0  27675.0  27675.000000    76000.0\n",
       "\n",
       "[248 rows x 7 columns]"
      ]
     },
     "execution_count": 25,
     "metadata": {},
     "output_type": "execute_result"
    }
   ],
   "source": [
    "import pandas as pd\n",
    "\n",
    "df = pd.read_csv('GGRM.csv')\n",
    "df"
   ]
  },
  {
   "cell_type": "code",
   "execution_count": 3,
   "metadata": {},
   "outputs": [
    {
     "data": {
      "text/html": [
       "<div>\n",
       "<style scoped>\n",
       "    .dataframe tbody tr th:only-of-type {\n",
       "        vertical-align: middle;\n",
       "    }\n",
       "\n",
       "    .dataframe tbody tr th {\n",
       "        vertical-align: top;\n",
       "    }\n",
       "\n",
       "    .dataframe thead th {\n",
       "        text-align: right;\n",
       "    }\n",
       "</style>\n",
       "<table border=\"1\" class=\"dataframe\">\n",
       "  <thead>\n",
       "    <tr style=\"text-align: right;\">\n",
       "      <th></th>\n",
       "      <th>Date</th>\n",
       "      <th>Close</th>\n",
       "    </tr>\n",
       "  </thead>\n",
       "  <tbody>\n",
       "    <tr>\n",
       "      <th>0</th>\n",
       "      <td>2022-06-15</td>\n",
       "      <td>30575.0</td>\n",
       "    </tr>\n",
       "    <tr>\n",
       "      <th>1</th>\n",
       "      <td>2022-06-16</td>\n",
       "      <td>30775.0</td>\n",
       "    </tr>\n",
       "    <tr>\n",
       "      <th>2</th>\n",
       "      <td>2022-06-17</td>\n",
       "      <td>30450.0</td>\n",
       "    </tr>\n",
       "    <tr>\n",
       "      <th>3</th>\n",
       "      <td>2022-06-20</td>\n",
       "      <td>30700.0</td>\n",
       "    </tr>\n",
       "    <tr>\n",
       "      <th>4</th>\n",
       "      <td>2022-06-21</td>\n",
       "      <td>31050.0</td>\n",
       "    </tr>\n",
       "    <tr>\n",
       "      <th>...</th>\n",
       "      <td>...</td>\n",
       "      <td>...</td>\n",
       "    </tr>\n",
       "    <tr>\n",
       "      <th>243</th>\n",
       "      <td>2023-06-09</td>\n",
       "      <td>27400.0</td>\n",
       "    </tr>\n",
       "    <tr>\n",
       "      <th>244</th>\n",
       "      <td>2023-06-12</td>\n",
       "      <td>27900.0</td>\n",
       "    </tr>\n",
       "    <tr>\n",
       "      <th>245</th>\n",
       "      <td>2023-06-13</td>\n",
       "      <td>28000.0</td>\n",
       "    </tr>\n",
       "    <tr>\n",
       "      <th>246</th>\n",
       "      <td>2023-06-14</td>\n",
       "      <td>NaN</td>\n",
       "    </tr>\n",
       "    <tr>\n",
       "      <th>247</th>\n",
       "      <td>2023-06-15</td>\n",
       "      <td>27675.0</td>\n",
       "    </tr>\n",
       "  </tbody>\n",
       "</table>\n",
       "<p>248 rows × 2 columns</p>\n",
       "</div>"
      ],
      "text/plain": [
       "           Date    Close\n",
       "0    2022-06-15  30575.0\n",
       "1    2022-06-16  30775.0\n",
       "2    2022-06-17  30450.0\n",
       "3    2022-06-20  30700.0\n",
       "4    2022-06-21  31050.0\n",
       "..          ...      ...\n",
       "243  2023-06-09  27400.0\n",
       "244  2023-06-12  27900.0\n",
       "245  2023-06-13  28000.0\n",
       "246  2023-06-14      NaN\n",
       "247  2023-06-15  27675.0\n",
       "\n",
       "[248 rows x 2 columns]"
      ]
     },
     "execution_count": 3,
     "metadata": {},
     "output_type": "execute_result"
    }
   ],
   "source": [
    "df[['Date','Close']]"
   ]
  },
  {
   "cell_type": "code",
   "execution_count": 4,
   "metadata": {},
   "outputs": [
    {
     "data": {
      "text/plain": [
       "Date         0\n",
       "Open         1\n",
       "High         1\n",
       "Low          1\n",
       "Close        1\n",
       "Adj Close    1\n",
       "Volume       1\n",
       "dtype: int64"
      ]
     },
     "execution_count": 4,
     "metadata": {},
     "output_type": "execute_result"
    }
   ],
   "source": [
    "df.isnull().sum()"
   ]
  },
  {
   "cell_type": "code",
   "execution_count": 5,
   "metadata": {},
   "outputs": [],
   "source": [
    "df.dropna(inplace=True)"
   ]
  },
  {
   "cell_type": "code",
   "execution_count": 6,
   "metadata": {},
   "outputs": [
    {
     "data": {
      "text/plain": [
       "0      30575.0\n",
       "1      30775.0\n",
       "2      30450.0\n",
       "3      30700.0\n",
       "4      31050.0\n",
       "        ...   \n",
       "242    28000.0\n",
       "243    27400.0\n",
       "244    27900.0\n",
       "245    28000.0\n",
       "247    27675.0\n",
       "Name: Close, Length: 247, dtype: float64"
      ]
     },
     "execution_count": 6,
     "metadata": {},
     "output_type": "execute_result"
    }
   ],
   "source": [
    "data = df['Close']\n",
    "data"
   ]
  },
  {
   "cell_type": "code",
   "execution_count": 7,
   "metadata": {},
   "outputs": [
    {
     "data": {
      "text/html": [
       "<div>\n",
       "<style scoped>\n",
       "    .dataframe tbody tr th:only-of-type {\n",
       "        vertical-align: middle;\n",
       "    }\n",
       "\n",
       "    .dataframe tbody tr th {\n",
       "        vertical-align: top;\n",
       "    }\n",
       "\n",
       "    .dataframe thead th {\n",
       "        text-align: right;\n",
       "    }\n",
       "</style>\n",
       "<table border=\"1\" class=\"dataframe\">\n",
       "  <thead>\n",
       "    <tr style=\"text-align: right;\">\n",
       "      <th></th>\n",
       "      <th>Close</th>\n",
       "    </tr>\n",
       "  </thead>\n",
       "  <tbody>\n",
       "    <tr>\n",
       "      <th>0</th>\n",
       "      <td>30575.0</td>\n",
       "    </tr>\n",
       "    <tr>\n",
       "      <th>1</th>\n",
       "      <td>30775.0</td>\n",
       "    </tr>\n",
       "    <tr>\n",
       "      <th>2</th>\n",
       "      <td>30450.0</td>\n",
       "    </tr>\n",
       "    <tr>\n",
       "      <th>3</th>\n",
       "      <td>30700.0</td>\n",
       "    </tr>\n",
       "    <tr>\n",
       "      <th>4</th>\n",
       "      <td>31050.0</td>\n",
       "    </tr>\n",
       "    <tr>\n",
       "      <th>...</th>\n",
       "      <td>...</td>\n",
       "    </tr>\n",
       "    <tr>\n",
       "      <th>193</th>\n",
       "      <td>25100.0</td>\n",
       "    </tr>\n",
       "    <tr>\n",
       "      <th>194</th>\n",
       "      <td>25000.0</td>\n",
       "    </tr>\n",
       "    <tr>\n",
       "      <th>195</th>\n",
       "      <td>25500.0</td>\n",
       "    </tr>\n",
       "    <tr>\n",
       "      <th>196</th>\n",
       "      <td>25025.0</td>\n",
       "    </tr>\n",
       "    <tr>\n",
       "      <th>197</th>\n",
       "      <td>24450.0</td>\n",
       "    </tr>\n",
       "  </tbody>\n",
       "</table>\n",
       "<p>198 rows × 1 columns</p>\n",
       "</div>"
      ],
      "text/plain": [
       "       Close\n",
       "0    30575.0\n",
       "1    30775.0\n",
       "2    30450.0\n",
       "3    30700.0\n",
       "4    31050.0\n",
       "..       ...\n",
       "193  25100.0\n",
       "194  25000.0\n",
       "195  25500.0\n",
       "196  25025.0\n",
       "197  24450.0\n",
       "\n",
       "[198 rows x 1 columns]"
      ]
     },
     "execution_count": 7,
     "metadata": {},
     "output_type": "execute_result"
    }
   ],
   "source": [
    "n = len(data)\n",
    "sizeTrain = (round(n*0.8))\n",
    "data_train = pd.DataFrame(data[:sizeTrain])\n",
    "data_test = pd.DataFrame(data[sizeTrain:])\n",
    "data_train"
   ]
  },
  {
   "cell_type": "code",
   "execution_count": 8,
   "metadata": {},
   "outputs": [
    {
     "data": {
      "text/plain": [
       "0     0.527961\n",
       "1     0.527961\n",
       "2     0.592105\n",
       "3     0.648026\n",
       "4     0.669408\n",
       "5     0.618421\n",
       "6     0.564145\n",
       "7     0.554276\n",
       "8     0.562500\n",
       "9     0.595395\n",
       "10    0.583882\n",
       "11    0.564145\n",
       "12    0.519737\n",
       "13    0.508224\n",
       "14    0.526316\n",
       "15    0.506579\n",
       "16    0.532895\n",
       "17    0.598684\n",
       "18    0.631579\n",
       "19    0.779605\n",
       "20    0.720395\n",
       "21    0.759868\n",
       "22    0.754934\n",
       "23    0.784539\n",
       "24    0.807566\n",
       "25    0.804276\n",
       "26    0.868421\n",
       "27    0.782895\n",
       "28    0.740132\n",
       "29    0.815789\n",
       "30    0.807566\n",
       "31    0.796053\n",
       "32    0.740132\n",
       "33    0.763158\n",
       "34    0.726974\n",
       "35    0.723684\n",
       "36    0.695724\n",
       "37    0.722039\n",
       "38    0.710526\n",
       "39    0.713816\n",
       "40    0.684211\n",
       "41    0.787829\n",
       "42    0.776316\n",
       "43    0.756579\n",
       "44    0.750000\n",
       "45    0.710526\n",
       "46    0.743421\n",
       "47    0.750000\n",
       "48    0.728618\n",
       "Name: data, dtype: float64"
      ]
     },
     "execution_count": 8,
     "metadata": {},
     "output_type": "execute_result"
    }
   ],
   "source": [
    "from sklearn.preprocessing import MinMaxScaler\n",
    "\n",
    "scaler = MinMaxScaler()\n",
    "train_scaled = scaler.fit_transform(data_train)\n",
    "\n",
    "# Mengaplikasikan MinMaxScaler pada data pengujian\n",
    "test_scaled = scaler.transform(data_test)\n",
    "\n",
    "# reshaped_data = data.reshape(-1, 1)\n",
    "train = pd.DataFrame(train_scaled, columns = ['data'])\n",
    "train = train['data']\n",
    "\n",
    "test = pd.DataFrame(test_scaled, columns = ['data'])\n",
    "test = test['data']\n",
    "test"
   ]
  },
  {
   "cell_type": "code",
   "execution_count": 9,
   "metadata": {},
   "outputs": [],
   "source": [
    "from numpy import array\n",
    "def split_sequence(sequence, n_steps):\n",
    "  X, y = list(), list()\n",
    "  for i in range(len(sequence)):\n",
    "    # find the end of this pattern\n",
    "    end_ix = i + n_steps\n",
    "    # check if we are beyond the sequence\n",
    "    if end_ix > len(sequence)-1:\n",
    "      break\n",
    "    # gather input and output parts of the pattern\n",
    "    seq_x, seq_y = sequence[i:end_ix], sequence[end_ix]\n",
    "    X.append(seq_x)\n",
    "    y.append(seq_y)\n",
    "  \n",
    "  return array(X), array(y)"
   ]
  },
  {
   "cell_type": "code",
   "execution_count": 10,
   "metadata": {},
   "outputs": [],
   "source": [
    "df_X, df_Y = split_sequence(train, 3)\n",
    "# for i in range(len(df_X)):\n",
    "#   print(df_X[i], df_Y[i])\n",
    "x = pd.DataFrame(df_X, columns = ['xt-3','xt-2','xt-1'])\n",
    "y = pd.DataFrame(df_Y, columns = ['xt'])\n",
    "dataset_train = pd.concat([x, y], axis=1)\n",
    "dataset_train\n",
    "dataset_train.to_excel('data_train(perhari).xlsx', index=False)"
   ]
  },
  {
   "cell_type": "code",
   "execution_count": 11,
   "metadata": {},
   "outputs": [
    {
     "data": {
      "text/plain": [
       "array([[0.91940789, 0.93256579, 0.91118421],\n",
       "       [0.93256579, 0.91118421, 0.92763158],\n",
       "       [0.91118421, 0.92763158, 0.95065789],\n",
       "       [0.92763158, 0.95065789, 0.94572368],\n",
       "       [0.95065789, 0.94572368, 0.93256579],\n",
       "       [0.94572368, 0.93256579, 0.95888158],\n",
       "       [0.93256579, 0.95888158, 0.94901316],\n",
       "       [0.95888158, 0.94901316, 0.96710526],\n",
       "       [0.94901316, 0.96710526, 0.9375    ],\n",
       "       [0.96710526, 0.9375    , 0.95888158],\n",
       "       [0.9375    , 0.95888158, 0.98190789],\n",
       "       [0.95888158, 0.98190789, 0.98519737],\n",
       "       [0.98190789, 0.98519737, 0.99671053],\n",
       "       [0.98519737, 0.99671053, 1.        ],\n",
       "       [0.99671053, 1.        , 0.99835526],\n",
       "       [1.        , 0.99835526, 0.99177632],\n",
       "       [0.99835526, 0.99177632, 0.85526316],\n",
       "       [0.99177632, 0.85526316, 0.85032895],\n",
       "       [0.85526316, 0.85032895, 0.84539474],\n",
       "       [0.85032895, 0.84539474, 0.83059211],\n",
       "       [0.84539474, 0.83059211, 0.82730263],\n",
       "       [0.83059211, 0.82730263, 0.84868421],\n",
       "       [0.82730263, 0.84868421, 0.84703947],\n",
       "       [0.84868421, 0.84703947, 0.86184211],\n",
       "       [0.84703947, 0.86184211, 0.84868421],\n",
       "       [0.86184211, 0.84868421, 0.86184211],\n",
       "       [0.84868421, 0.86184211, 0.84210526],\n",
       "       [0.86184211, 0.84210526, 0.81085526],\n",
       "       [0.84210526, 0.81085526, 0.80263158],\n",
       "       [0.81085526, 0.80263158, 0.78618421],\n",
       "       [0.80263158, 0.78618421, 0.74013158],\n",
       "       [0.78618421, 0.74013158, 0.65953947],\n",
       "       [0.74013158, 0.65953947, 0.58881579],\n",
       "       [0.65953947, 0.58881579, 0.55921053],\n",
       "       [0.58881579, 0.55921053, 0.59703947],\n",
       "       [0.55921053, 0.59703947, 0.59868421],\n",
       "       [0.59703947, 0.59868421, 0.57236842],\n",
       "       [0.59868421, 0.57236842, 0.58552632],\n",
       "       [0.57236842, 0.58552632, 0.57894737],\n",
       "       [0.58552632, 0.57894737, 0.57236842],\n",
       "       [0.57894737, 0.57236842, 0.58552632],\n",
       "       [0.57236842, 0.58552632, 0.57236842],\n",
       "       [0.58552632, 0.57236842, 0.57236842],\n",
       "       [0.57236842, 0.57236842, 0.57236842],\n",
       "       [0.57236842, 0.57236842, 0.56578947],\n",
       "       [0.57236842, 0.56578947, 0.56578947],\n",
       "       [0.56578947, 0.56578947, 0.5625    ],\n",
       "       [0.56578947, 0.5625    , 0.55921053],\n",
       "       [0.5625    , 0.55921053, 0.55592105],\n",
       "       [0.55921053, 0.55592105, 0.55427632],\n",
       "       [0.55592105, 0.55427632, 0.52960526],\n",
       "       [0.55427632, 0.52960526, 0.51644737],\n",
       "       [0.52960526, 0.51644737, 0.46875   ],\n",
       "       [0.51644737, 0.46875   , 0.47368421],\n",
       "       [0.46875   , 0.47368421, 0.46710526],\n",
       "       [0.47368421, 0.46710526, 0.48355263],\n",
       "       [0.46710526, 0.48355263, 0.5       ],\n",
       "       [0.48355263, 0.5       , 0.49342105],\n",
       "       [0.5       , 0.49342105, 0.47203947],\n",
       "       [0.49342105, 0.47203947, 0.46710526],\n",
       "       [0.47203947, 0.46710526, 0.48355263],\n",
       "       [0.46710526, 0.48355263, 0.48355263],\n",
       "       [0.48355263, 0.48355263, 0.46546053],\n",
       "       [0.48355263, 0.46546053, 0.46710526],\n",
       "       [0.46546053, 0.46710526, 0.44572368],\n",
       "       [0.46710526, 0.44572368, 0.42269737],\n",
       "       [0.44572368, 0.42269737, 0.42434211],\n",
       "       [0.42269737, 0.42434211, 0.41447368],\n",
       "       [0.42434211, 0.41447368, 0.38815789],\n",
       "       [0.41447368, 0.38815789, 0.375     ],\n",
       "       [0.38815789, 0.375     , 0.42434211],\n",
       "       [0.375     , 0.42434211, 0.41118421],\n",
       "       [0.42434211, 0.41118421, 0.51315789],\n",
       "       [0.41118421, 0.51315789, 0.43585526],\n",
       "       [0.51315789, 0.43585526, 0.41611842],\n",
       "       [0.43585526, 0.41611842, 0.39967105],\n",
       "       [0.41611842, 0.39967105, 0.38815789],\n",
       "       [0.39967105, 0.38815789, 0.39638158],\n",
       "       [0.38815789, 0.39638158, 0.40789474],\n",
       "       [0.39638158, 0.40789474, 0.40953947],\n",
       "       [0.40789474, 0.40953947, 0.40460526],\n",
       "       [0.40953947, 0.40460526, 0.40460526],\n",
       "       [0.40460526, 0.40460526, 0.37664474],\n",
       "       [0.40460526, 0.37664474, 0.37664474],\n",
       "       [0.37664474, 0.37664474, 0.375     ],\n",
       "       [0.37664474, 0.375     , 0.36184211],\n",
       "       [0.375     , 0.36184211, 0.36348684],\n",
       "       [0.36184211, 0.36348684, 0.40460526],\n",
       "       [0.36348684, 0.40460526, 0.53125   ],\n",
       "       [0.40460526, 0.53125   , 0.54440789],\n",
       "       [0.53125   , 0.54440789, 0.51973684],\n",
       "       [0.54440789, 0.51973684, 0.49342105],\n",
       "       [0.51973684, 0.49342105, 0.55263158],\n",
       "       [0.49342105, 0.55263158, 0.58388158],\n",
       "       [0.55263158, 0.58388158, 0.51151316],\n",
       "       [0.58388158, 0.51151316, 0.49342105],\n",
       "       [0.51151316, 0.49342105, 0.42598684],\n",
       "       [0.49342105, 0.42598684, 0.4375    ],\n",
       "       [0.42598684, 0.4375    , 0.43914474],\n",
       "       [0.4375    , 0.43914474, 0.39802632],\n",
       "       [0.43914474, 0.39802632, 0.39967105],\n",
       "       [0.39802632, 0.39967105, 0.36842105],\n",
       "       [0.39967105, 0.36842105, 0.39473684],\n",
       "       [0.36842105, 0.39473684, 0.35690789],\n",
       "       [0.39473684, 0.35690789, 0.31085526],\n",
       "       [0.35690789, 0.31085526, 0.31743421],\n",
       "       [0.31085526, 0.31743421, 0.33881579],\n",
       "       [0.31743421, 0.33881579, 0.28947368],\n",
       "       [0.33881579, 0.28947368, 0.26644737],\n",
       "       [0.28947368, 0.26644737, 0.29440789],\n",
       "       [0.26644737, 0.29440789, 0.27302632],\n",
       "       [0.29440789, 0.27302632, 0.27467105],\n",
       "       [0.27302632, 0.27467105, 0.28125   ],\n",
       "       [0.27467105, 0.28125   , 0.28947368],\n",
       "       [0.28125   , 0.28947368, 0.31907895],\n",
       "       [0.28947368, 0.31907895, 0.33552632],\n",
       "       [0.31907895, 0.33552632, 0.31907895],\n",
       "       [0.33552632, 0.31907895, 0.22039474],\n",
       "       [0.31907895, 0.22039474, 0.15131579],\n",
       "       [0.22039474, 0.15131579, 0.18585526],\n",
       "       [0.15131579, 0.18585526, 0.15296053],\n",
       "       [0.18585526, 0.15296053, 0.13980263],\n",
       "       [0.15296053, 0.13980263, 0.14802632],\n",
       "       [0.13980263, 0.14802632, 0.15131579],\n",
       "       [0.14802632, 0.15131579, 0.14473684],\n",
       "       [0.15131579, 0.14473684, 0.16118421],\n",
       "       [0.14473684, 0.16118421, 0.15460526],\n",
       "       [0.16118421, 0.15460526, 0.16940789],\n",
       "       [0.15460526, 0.16940789, 0.16776316],\n",
       "       [0.16940789, 0.16776316, 0.14473684],\n",
       "       [0.16776316, 0.14473684, 0.16118421],\n",
       "       [0.14473684, 0.16118421, 0.13815789],\n",
       "       [0.16118421, 0.13815789, 0.10855263],\n",
       "       [0.13815789, 0.10855263, 0.12993421],\n",
       "       [0.10855263, 0.12993421, 0.14802632],\n",
       "       [0.12993421, 0.14802632, 0.15625   ],\n",
       "       [0.14802632, 0.15625   , 0.12828947],\n",
       "       [0.15625   , 0.12828947, 0.11348684],\n",
       "       [0.12828947, 0.11348684, 0.11842105],\n",
       "       [0.11348684, 0.11842105, 0.09210526],\n",
       "       [0.11842105, 0.09210526, 0.09375   ],\n",
       "       [0.09210526, 0.09375   , 0.09210526],\n",
       "       [0.09375   , 0.09210526, 0.06743421],\n",
       "       [0.09210526, 0.06743421, 0.        ],\n",
       "       [0.06743421, 0.        , 0.07730263],\n",
       "       [0.        , 0.07730263, 0.07894737],\n",
       "       [0.07730263, 0.07894737, 0.05756579],\n",
       "       [0.07894737, 0.05756579, 0.04440789],\n",
       "       [0.05756579, 0.04440789, 0.04934211],\n",
       "       [0.04440789, 0.04934211, 0.04605263],\n",
       "       [0.04934211, 0.04605263, 0.02138158],\n",
       "       [0.04605263, 0.02138158, 0.03782895],\n",
       "       [0.02138158, 0.03782895, 0.02796053],\n",
       "       [0.03782895, 0.02796053, 0.03289474],\n",
       "       [0.02796053, 0.03289474, 0.03453947],\n",
       "       [0.03289474, 0.03453947, 0.14473684],\n",
       "       [0.03453947, 0.14473684, 0.22697368],\n",
       "       [0.14473684, 0.22697368, 0.37335526],\n",
       "       [0.22697368, 0.37335526, 0.34868421],\n",
       "       [0.37335526, 0.34868421, 0.36184211],\n",
       "       [0.34868421, 0.36184211, 0.42105263],\n",
       "       [0.36184211, 0.42105263, 0.48684211],\n",
       "       [0.42105263, 0.48684211, 0.57236842],\n",
       "       [0.48684211, 0.57236842, 0.47697368],\n",
       "       [0.57236842, 0.47697368, 0.44078947],\n",
       "       [0.47697368, 0.44078947, 0.53947368],\n",
       "       [0.44078947, 0.53947368, 0.57072368],\n",
       "       [0.53947368, 0.57072368, 0.68092105],\n",
       "       [0.57072368, 0.68092105, 0.67269737],\n",
       "       [0.68092105, 0.67269737, 0.63815789],\n",
       "       [0.67269737, 0.63815789, 0.66118421],\n",
       "       [0.63815789, 0.66118421, 0.65296053],\n",
       "       [0.66118421, 0.65296053, 0.61019737],\n",
       "       [0.65296053, 0.61019737, 0.64309211],\n",
       "       [0.61019737, 0.64309211, 0.63980263],\n",
       "       [0.64309211, 0.63980263, 0.69736842],\n",
       "       [0.63980263, 0.69736842, 0.62171053],\n",
       "       [0.69736842, 0.62171053, 0.57894737],\n",
       "       [0.62171053, 0.57894737, 0.62335526],\n",
       "       [0.57894737, 0.62335526, 0.57236842],\n",
       "       [0.62335526, 0.57236842, 0.55263158],\n",
       "       [0.57236842, 0.55263158, 0.48026316],\n",
       "       [0.55263158, 0.48026316, 0.56414474],\n",
       "       [0.48026316, 0.56414474, 0.59868421],\n",
       "       [0.56414474, 0.59868421, 0.65789474],\n",
       "       [0.59868421, 0.65789474, 0.58881579],\n",
       "       [0.65789474, 0.58881579, 0.63157895],\n",
       "       [0.58881579, 0.63157895, 0.60526316],\n",
       "       [0.63157895, 0.60526316, 0.62993421],\n",
       "       [0.60526316, 0.62993421, 0.57401316],\n",
       "       [0.62993421, 0.57401316, 0.52631579],\n",
       "       [0.57401316, 0.52631579, 0.55921053],\n",
       "       [0.52631579, 0.55921053, 0.55263158],\n",
       "       [0.55921053, 0.55263158, 0.58552632],\n",
       "       [0.55263158, 0.58552632, 0.55427632]])"
      ]
     },
     "execution_count": 11,
     "metadata": {},
     "output_type": "execute_result"
    }
   ],
   "source": [
    "X_train = dataset_train.iloc[:, :3].values\n",
    "Y_train = dataset_train.iloc[:, -1].values\n",
    "X_train"
   ]
  },
  {
   "cell_type": "code",
   "execution_count": 12,
   "metadata": {},
   "outputs": [],
   "source": [
    "test_x, test_y = split_sequence(test, 3)\n",
    "# for i in range(len(test_x)):\n",
    "#   print(test_x[i], test_y[i])\n",
    "x = pd.DataFrame(test_x, columns = ['xt-3','xt-2','xt-1'])\n",
    "y = pd.DataFrame(test_y, columns = ['xt'])\n",
    "dataset_test = pd.concat([x, y], axis=1)\n",
    "dataset_test\n",
    "dataset_test.to_excel('data_test(perhari).xlsx', index=False)"
   ]
  },
  {
   "cell_type": "code",
   "execution_count": 13,
   "metadata": {},
   "outputs": [
    {
     "name": "stdout",
     "output_type": "stream",
     "text": [
      "46\n"
     ]
    }
   ],
   "source": [
    "X_test = dataset_test.iloc[:, :3].values\n",
    "Y_test = dataset_test.iloc[:, -1].values\n",
    "print(len(X_test))"
   ]
  },
  {
   "cell_type": "code",
   "execution_count": 14,
   "metadata": {},
   "outputs": [],
   "source": [
    "import pandas as pd\n",
    "from sklearn.neighbors import KNeighborsRegressor\n",
    "from sklearn.linear_model import LinearRegression\n",
    "from sklearn.metrics import mean_absolute_percentage_error"
   ]
  },
  {
   "cell_type": "code",
   "execution_count": 15,
   "metadata": {},
   "outputs": [
    {
     "data": {
      "text/html": [
       "<style>#sk-container-id-1 {color: black;background-color: white;}#sk-container-id-1 pre{padding: 0;}#sk-container-id-1 div.sk-toggleable {background-color: white;}#sk-container-id-1 label.sk-toggleable__label {cursor: pointer;display: block;width: 100%;margin-bottom: 0;padding: 0.3em;box-sizing: border-box;text-align: center;}#sk-container-id-1 label.sk-toggleable__label-arrow:before {content: \"▸\";float: left;margin-right: 0.25em;color: #696969;}#sk-container-id-1 label.sk-toggleable__label-arrow:hover:before {color: black;}#sk-container-id-1 div.sk-estimator:hover label.sk-toggleable__label-arrow:before {color: black;}#sk-container-id-1 div.sk-toggleable__content {max-height: 0;max-width: 0;overflow: hidden;text-align: left;background-color: #f0f8ff;}#sk-container-id-1 div.sk-toggleable__content pre {margin: 0.2em;color: black;border-radius: 0.25em;background-color: #f0f8ff;}#sk-container-id-1 input.sk-toggleable__control:checked~div.sk-toggleable__content {max-height: 200px;max-width: 100%;overflow: auto;}#sk-container-id-1 input.sk-toggleable__control:checked~label.sk-toggleable__label-arrow:before {content: \"▾\";}#sk-container-id-1 div.sk-estimator input.sk-toggleable__control:checked~label.sk-toggleable__label {background-color: #d4ebff;}#sk-container-id-1 div.sk-label input.sk-toggleable__control:checked~label.sk-toggleable__label {background-color: #d4ebff;}#sk-container-id-1 input.sk-hidden--visually {border: 0;clip: rect(1px 1px 1px 1px);clip: rect(1px, 1px, 1px, 1px);height: 1px;margin: -1px;overflow: hidden;padding: 0;position: absolute;width: 1px;}#sk-container-id-1 div.sk-estimator {font-family: monospace;background-color: #f0f8ff;border: 1px dotted black;border-radius: 0.25em;box-sizing: border-box;margin-bottom: 0.5em;}#sk-container-id-1 div.sk-estimator:hover {background-color: #d4ebff;}#sk-container-id-1 div.sk-parallel-item::after {content: \"\";width: 100%;border-bottom: 1px solid gray;flex-grow: 1;}#sk-container-id-1 div.sk-label:hover label.sk-toggleable__label {background-color: #d4ebff;}#sk-container-id-1 div.sk-serial::before {content: \"\";position: absolute;border-left: 1px solid gray;box-sizing: border-box;top: 0;bottom: 0;left: 50%;z-index: 0;}#sk-container-id-1 div.sk-serial {display: flex;flex-direction: column;align-items: center;background-color: white;padding-right: 0.2em;padding-left: 0.2em;position: relative;}#sk-container-id-1 div.sk-item {position: relative;z-index: 1;}#sk-container-id-1 div.sk-parallel {display: flex;align-items: stretch;justify-content: center;background-color: white;position: relative;}#sk-container-id-1 div.sk-item::before, #sk-container-id-1 div.sk-parallel-item::before {content: \"\";position: absolute;border-left: 1px solid gray;box-sizing: border-box;top: 0;bottom: 0;left: 50%;z-index: -1;}#sk-container-id-1 div.sk-parallel-item {display: flex;flex-direction: column;z-index: 1;position: relative;background-color: white;}#sk-container-id-1 div.sk-parallel-item:first-child::after {align-self: flex-end;width: 50%;}#sk-container-id-1 div.sk-parallel-item:last-child::after {align-self: flex-start;width: 50%;}#sk-container-id-1 div.sk-parallel-item:only-child::after {width: 0;}#sk-container-id-1 div.sk-dashed-wrapped {border: 1px dashed gray;margin: 0 0.4em 0.5em 0.4em;box-sizing: border-box;padding-bottom: 0.4em;background-color: white;}#sk-container-id-1 div.sk-label label {font-family: monospace;font-weight: bold;display: inline-block;line-height: 1.2em;}#sk-container-id-1 div.sk-label-container {text-align: center;}#sk-container-id-1 div.sk-container {/* jupyter's `normalize.less` sets `[hidden] { display: none; }` but bootstrap.min.css set `[hidden] { display: none !important; }` so we also need the `!important` here to be able to override the default hidden behavior on the sphinx rendered scikit-learn.org. See: https://github.com/scikit-learn/scikit-learn/issues/21755 */display: inline-block !important;position: relative;}#sk-container-id-1 div.sk-text-repr-fallback {display: none;}</style><div id=\"sk-container-id-1\" class=\"sk-top-container\"><div class=\"sk-text-repr-fallback\"><pre>KNeighborsRegressor()</pre><b>In a Jupyter environment, please rerun this cell to show the HTML representation or trust the notebook. <br />On GitHub, the HTML representation is unable to render, please try loading this page with nbviewer.org.</b></div><div class=\"sk-container\" hidden><div class=\"sk-item\"><div class=\"sk-estimator sk-toggleable\"><input class=\"sk-toggleable__control sk-hidden--visually\" id=\"sk-estimator-id-1\" type=\"checkbox\" checked><label for=\"sk-estimator-id-1\" class=\"sk-toggleable__label sk-toggleable__label-arrow\">KNeighborsRegressor</label><div class=\"sk-toggleable__content\"><pre>KNeighborsRegressor()</pre></div></div></div></div></div>"
      ],
      "text/plain": [
       "KNeighborsRegressor()"
      ]
     },
     "execution_count": 15,
     "metadata": {},
     "output_type": "execute_result"
    }
   ],
   "source": [
    "model1 = KNeighborsRegressor(n_neighbors=5)\n",
    "model1.fit(X_train, Y_train)"
   ]
  },
  {
   "cell_type": "code",
   "execution_count": 16,
   "metadata": {},
   "outputs": [],
   "source": [
    "y_pred = model1.predict(X_test)\n",
    "reshaped_data = y_pred.reshape(-1, 1)\n",
    "original_data = scaler.inverse_transform(reshaped_data)\n",
    "reshaped_datates = Y_test.reshape(-1, 1)\n",
    "actual_test = scaler.inverse_transform(reshaped_datates)"
   ]
  },
  {
   "cell_type": "code",
   "execution_count": 17,
   "metadata": {},
   "outputs": [
    {
     "name": "stdout",
     "output_type": "stream",
     "text": [
      "0.03197917237006759\n"
     ]
    }
   ],
   "source": [
    "mape = mean_absolute_percentage_error(original_data, actual_test)\n",
    "print(mape)"
   ]
  },
  {
   "cell_type": "code",
   "execution_count": 18,
   "metadata": {},
   "outputs": [
    {
     "name": "stdout",
     "output_type": "stream",
     "text": [
      "Unnormalisasi MAPE:  [17086.08342003]\n"
     ]
    }
   ],
   "source": [
    "unnormalized_mape = mape * (scaler.data_max_ - scaler.data_min_) + scaler.data_min_\n",
    "\n",
    "print('Unnormalisasi MAPE: ', unnormalized_mape)"
   ]
  },
  {
   "cell_type": "code",
   "execution_count": 19,
   "metadata": {},
   "outputs": [],
   "source": [
    "df = pd.DataFrame({'Prediksi': y_pred.flatten(), 'Aktual': Y_test.flatten()})"
   ]
  },
  {
   "cell_type": "code",
   "execution_count": 20,
   "metadata": {},
   "outputs": [],
   "source": [
    "df.to_csv('hasil_prediksi_KNN.csv', index=False)"
   ]
  },
  {
   "cell_type": "code",
   "execution_count": 21,
   "metadata": {},
   "outputs": [
    {
     "data": {
      "text/html": [
       "<style>#sk-container-id-2 {color: black;background-color: white;}#sk-container-id-2 pre{padding: 0;}#sk-container-id-2 div.sk-toggleable {background-color: white;}#sk-container-id-2 label.sk-toggleable__label {cursor: pointer;display: block;width: 100%;margin-bottom: 0;padding: 0.3em;box-sizing: border-box;text-align: center;}#sk-container-id-2 label.sk-toggleable__label-arrow:before {content: \"▸\";float: left;margin-right: 0.25em;color: #696969;}#sk-container-id-2 label.sk-toggleable__label-arrow:hover:before {color: black;}#sk-container-id-2 div.sk-estimator:hover label.sk-toggleable__label-arrow:before {color: black;}#sk-container-id-2 div.sk-toggleable__content {max-height: 0;max-width: 0;overflow: hidden;text-align: left;background-color: #f0f8ff;}#sk-container-id-2 div.sk-toggleable__content pre {margin: 0.2em;color: black;border-radius: 0.25em;background-color: #f0f8ff;}#sk-container-id-2 input.sk-toggleable__control:checked~div.sk-toggleable__content {max-height: 200px;max-width: 100%;overflow: auto;}#sk-container-id-2 input.sk-toggleable__control:checked~label.sk-toggleable__label-arrow:before {content: \"▾\";}#sk-container-id-2 div.sk-estimator input.sk-toggleable__control:checked~label.sk-toggleable__label {background-color: #d4ebff;}#sk-container-id-2 div.sk-label input.sk-toggleable__control:checked~label.sk-toggleable__label {background-color: #d4ebff;}#sk-container-id-2 input.sk-hidden--visually {border: 0;clip: rect(1px 1px 1px 1px);clip: rect(1px, 1px, 1px, 1px);height: 1px;margin: -1px;overflow: hidden;padding: 0;position: absolute;width: 1px;}#sk-container-id-2 div.sk-estimator {font-family: monospace;background-color: #f0f8ff;border: 1px dotted black;border-radius: 0.25em;box-sizing: border-box;margin-bottom: 0.5em;}#sk-container-id-2 div.sk-estimator:hover {background-color: #d4ebff;}#sk-container-id-2 div.sk-parallel-item::after {content: \"\";width: 100%;border-bottom: 1px solid gray;flex-grow: 1;}#sk-container-id-2 div.sk-label:hover label.sk-toggleable__label {background-color: #d4ebff;}#sk-container-id-2 div.sk-serial::before {content: \"\";position: absolute;border-left: 1px solid gray;box-sizing: border-box;top: 0;bottom: 0;left: 50%;z-index: 0;}#sk-container-id-2 div.sk-serial {display: flex;flex-direction: column;align-items: center;background-color: white;padding-right: 0.2em;padding-left: 0.2em;position: relative;}#sk-container-id-2 div.sk-item {position: relative;z-index: 1;}#sk-container-id-2 div.sk-parallel {display: flex;align-items: stretch;justify-content: center;background-color: white;position: relative;}#sk-container-id-2 div.sk-item::before, #sk-container-id-2 div.sk-parallel-item::before {content: \"\";position: absolute;border-left: 1px solid gray;box-sizing: border-box;top: 0;bottom: 0;left: 50%;z-index: -1;}#sk-container-id-2 div.sk-parallel-item {display: flex;flex-direction: column;z-index: 1;position: relative;background-color: white;}#sk-container-id-2 div.sk-parallel-item:first-child::after {align-self: flex-end;width: 50%;}#sk-container-id-2 div.sk-parallel-item:last-child::after {align-self: flex-start;width: 50%;}#sk-container-id-2 div.sk-parallel-item:only-child::after {width: 0;}#sk-container-id-2 div.sk-dashed-wrapped {border: 1px dashed gray;margin: 0 0.4em 0.5em 0.4em;box-sizing: border-box;padding-bottom: 0.4em;background-color: white;}#sk-container-id-2 div.sk-label label {font-family: monospace;font-weight: bold;display: inline-block;line-height: 1.2em;}#sk-container-id-2 div.sk-label-container {text-align: center;}#sk-container-id-2 div.sk-container {/* jupyter's `normalize.less` sets `[hidden] { display: none; }` but bootstrap.min.css set `[hidden] { display: none !important; }` so we also need the `!important` here to be able to override the default hidden behavior on the sphinx rendered scikit-learn.org. See: https://github.com/scikit-learn/scikit-learn/issues/21755 */display: inline-block !important;position: relative;}#sk-container-id-2 div.sk-text-repr-fallback {display: none;}</style><div id=\"sk-container-id-2\" class=\"sk-top-container\"><div class=\"sk-text-repr-fallback\"><pre>LinearRegression()</pre><b>In a Jupyter environment, please rerun this cell to show the HTML representation or trust the notebook. <br />On GitHub, the HTML representation is unable to render, please try loading this page with nbviewer.org.</b></div><div class=\"sk-container\" hidden><div class=\"sk-item\"><div class=\"sk-estimator sk-toggleable\"><input class=\"sk-toggleable__control sk-hidden--visually\" id=\"sk-estimator-id-2\" type=\"checkbox\" checked><label for=\"sk-estimator-id-2\" class=\"sk-toggleable__label sk-toggleable__label-arrow\">LinearRegression</label><div class=\"sk-toggleable__content\"><pre>LinearRegression()</pre></div></div></div></div></div>"
      ],
      "text/plain": [
       "LinearRegression()"
      ]
     },
     "execution_count": 21,
     "metadata": {},
     "output_type": "execute_result"
    }
   ],
   "source": [
    "model2 = LinearRegression()\n",
    "model2.fit(X_train, Y_train)"
   ]
  },
  {
   "cell_type": "code",
   "execution_count": 22,
   "metadata": {},
   "outputs": [],
   "source": [
    "y_pred2 = model2.predict(X_test)\n",
    "reshaped_data = y_pred2.reshape(-1, 1)\n",
    "original_data = scaler.inverse_transform(reshaped_data)\n",
    "reshaped_datates = Y_test.reshape(-1, 1)\n",
    "actual_test = scaler.inverse_transform(reshaped_datates)"
   ]
  },
  {
   "cell_type": "code",
   "execution_count": 23,
   "metadata": {},
   "outputs": [
    {
     "name": "stdout",
     "output_type": "stream",
     "text": [
      "0.03197917237006759\n"
     ]
    }
   ],
   "source": [
    "mape2 = mean_absolute_percentage_error(original_data, actual_test)\n",
    "print(mape)"
   ]
  },
  {
   "cell_type": "code",
   "execution_count": 24,
   "metadata": {},
   "outputs": [
    {
     "name": "stdout",
     "output_type": "stream",
     "text": [
      "Unnormalisasi MAPE:  [16882.87838756]\n"
     ]
    }
   ],
   "source": [
    "unnormalized_mape2 = mape2 * (scaler.data_max_ - scaler.data_min_) + scaler.data_min_\n",
    "\n",
    "print('Unnormalisasi MAPE: ', unnormalized_mape2)"
   ]
  },
  {
   "cell_type": "code",
   "execution_count": null,
   "metadata": {},
   "outputs": [],
   "source": []
  }
 ],
 "metadata": {
  "language_info": {
   "name": "python"
  },
  "orig_nbformat": 4
 },
 "nbformat": 4,
 "nbformat_minor": 2
}
